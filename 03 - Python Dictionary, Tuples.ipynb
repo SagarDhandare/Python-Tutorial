{
 "cells": [
  {
   "cell_type": "markdown",
   "metadata": {},
   "source": [
    "## Dictionary"
   ]
  },
  {
   "cell_type": "markdown",
   "metadata": {},
   "source": [
    "- {key:value} pair\n",
    "- Unordered in Nature\n",
    "- Mutable (can be changed)"
   ]
  },
  {
   "cell_type": "code",
   "execution_count": 1,
   "metadata": {},
   "outputs": [
    {
     "name": "stdout",
     "output_type": "stream",
     "text": [
      "{'Jan': 31, 'Feb': 28, 'Mar': 30}\n"
     ]
    }
   ],
   "source": [
    "dict1 = {'Jan':31,'Feb':28,'Mar':30}\n",
    "print(dict1)"
   ]
  },
  {
   "cell_type": "code",
   "execution_count": 2,
   "metadata": {},
   "outputs": [
    {
     "name": "stdout",
     "output_type": "stream",
     "text": [
      "31\n"
     ]
    }
   ],
   "source": [
    "#Accessing Values\n",
    "\n",
    "print(dict1[\"Jan\"])"
   ]
  },
  {
   "cell_type": "markdown",
   "metadata": {},
   "source": [
    "#### Updating"
   ]
  },
  {
   "cell_type": "code",
   "execution_count": 3,
   "metadata": {},
   "outputs": [
    {
     "name": "stdout",
     "output_type": "stream",
     "text": [
      "{'Jan': 31, 'Feb': 28, 'Mar': 30}\n",
      "{'Jan': 31, 'Feb': 29, 'Mar': 30}\n",
      "{'Jan': 31, 'Feb': 29, 'Mar': 30, 'April': 30}\n"
     ]
    }
   ],
   "source": [
    "dict1 = {'Jan':31,'Feb':28,'Mar':30}\n",
    "print(dict1)\n",
    "dict1['Feb'] = 29\n",
    "print(dict1)\n",
    "dict1['April'] = 30\n",
    "print(dict1)"
   ]
  },
  {
   "cell_type": "markdown",
   "metadata": {},
   "source": [
    "- Keys are Unique and Immutable"
   ]
  },
  {
   "cell_type": "code",
   "execution_count": 4,
   "metadata": {},
   "outputs": [
    {
     "name": "stdout",
     "output_type": "stream",
     "text": [
      "{'Jan': 31, 'Feb': 28, 'Mar': 31}\n"
     ]
    }
   ],
   "source": [
    "dict1 = {'Jan':31,'Feb':28,'Mar':30,'Mar':31}\n",
    "print(dict1)\n",
    "# We will get last updated value for multiple keys"
   ]
  },
  {
   "cell_type": "code",
   "execution_count": 5,
   "metadata": {},
   "outputs": [
    {
     "name": "stdout",
     "output_type": "stream",
     "text": [
      "{1: 'Jan', 2: 'Feb', 3: 'Mar'}\n"
     ]
    }
   ],
   "source": [
    "dict2 = {1:'Jan',2:'Feb',3:'Mar'}\n",
    "print(dict2)"
   ]
  },
  {
   "cell_type": "code",
   "execution_count": 6,
   "metadata": {},
   "outputs": [
    {
     "data": {
      "text/plain": [
       "{'Jan': [1, 2, 3]}"
      ]
     },
     "execution_count": 6,
     "metadata": {},
     "output_type": "execute_result"
    }
   ],
   "source": [
    "#dict3 = {[1,2,3]:'Jan'}\n",
    "dict3 = {'Jan':[1,2,3]}\n",
    "dict3"
   ]
  },
  {
   "cell_type": "markdown",
   "metadata": {},
   "source": [
    "#### Dictinary Functions"
   ]
  },
  {
   "cell_type": "code",
   "execution_count": 7,
   "metadata": {},
   "outputs": [
    {
     "name": "stdout",
     "output_type": "stream",
     "text": [
      "{'Jan': 31, 'Feb': 28, 'Mar': 31}\n",
      "3\n"
     ]
    }
   ],
   "source": [
    "dict_n = {'Jan':31,'Feb':28,'Mar':30,'Mar':31}\n",
    "print(dict_n)\n",
    "print(len(dict_n))"
   ]
  },
  {
   "cell_type": "markdown",
   "metadata": {},
   "source": [
    "- Accessing Elements based on Keys (Method-2)<br>\n",
    "To avoid KeyError, we can use a fuction to access dictionary elements called get()"
   ]
  },
  {
   "cell_type": "code",
   "execution_count": 8,
   "metadata": {},
   "outputs": [
    {
     "name": "stdout",
     "output_type": "stream",
     "text": [
      "{'Jan': 31, 'Feb': 28, 'Mar': 31}\n",
      "31\n",
      "28\n",
      "31\n",
      "31\n",
      "None\n",
      "NA\n"
     ]
    }
   ],
   "source": [
    "print(dict_n)\n",
    "print(dict_n.get('Jan'))\n",
    "print(dict_n.get('Feb'))\n",
    "print(dict_n.get('Mar'))\n",
    "print(dict_n.get('Jan',31))\n",
    "print(dict_n.get('April'))\n",
    "print(dict_n.get('April','NA'))"
   ]
  },
  {
   "cell_type": "code",
   "execution_count": 9,
   "metadata": {},
   "outputs": [
    {
     "name": "stdout",
     "output_type": "stream",
     "text": [
      "{'Jan': 31, 'Feb': 28, 'Mar': 31}\n",
      "dict_items([('Jan', 31), ('Feb', 28), ('Mar', 31)])\n",
      "<class 'dict_items'>\n",
      "[('Jan', 31), ('Feb', 28), ('Mar', 31)]\n"
     ]
    }
   ],
   "source": [
    "print(dict_n)\n",
    "print(dict_n.items())\n",
    "print(type(dict_n.items()))\n",
    "print(list(dict_n.items()))"
   ]
  },
  {
   "cell_type": "code",
   "execution_count": 10,
   "metadata": {},
   "outputs": [
    {
     "name": "stdout",
     "output_type": "stream",
     "text": [
      "{'Jan': 31, 'Feb': 28, 'Mar': 31}\n",
      "dict_keys(['Jan', 'Feb', 'Mar'])\n",
      "<class 'dict_keys'>\n",
      "['Jan', 'Feb', 'Mar']\n"
     ]
    }
   ],
   "source": [
    "print(dict_n)\n",
    "print(dict_n.keys())\n",
    "print(type(dict_n.keys()))\n",
    "print(list(dict_n.keys()))"
   ]
  },
  {
   "cell_type": "code",
   "execution_count": 11,
   "metadata": {},
   "outputs": [
    {
     "name": "stdout",
     "output_type": "stream",
     "text": [
      "{'Jan': 31, 'Feb': 28, 'Mar': 31}\n",
      "dict_values([31, 28, 31])\n",
      "<class 'dict_values'>\n",
      "[31, 28, 31]\n"
     ]
    }
   ],
   "source": [
    "print(dict_n)\n",
    "print(dict_n.values())\n",
    "print(type(dict_n.values()))\n",
    "print(list(dict_n.values()))"
   ]
  },
  {
   "cell_type": "markdown",
   "metadata": {},
   "source": [
    ".item() , .keys(), .values() convert unordered Dictionary into Ordered List."
   ]
  },
  {
   "cell_type": "markdown",
   "metadata": {},
   "source": [
    "#### Deletion in Dictionary"
   ]
  },
  {
   "cell_type": "markdown",
   "metadata": {},
   "source": [
    "We cannot only delete a key or value singly.<br>Both key,value pair are deleted from a dictionary."
   ]
  },
  {
   "cell_type": "code",
   "execution_count": 12,
   "metadata": {},
   "outputs": [
    {
     "name": "stdout",
     "output_type": "stream",
     "text": [
      "{'Jan': 31, 'Feb': 28, 'Mar': 31}\n",
      "{'Feb': 28, 'Mar': 31}\n"
     ]
    }
   ],
   "source": [
    "# Method - 1\n",
    "dict_n = {'Jan':31,'Feb':28,'Mar':30,'Mar':31}\n",
    "print(dict_n)\n",
    "dict_n.pop('Jan')\n",
    "print(dict_n)"
   ]
  },
  {
   "cell_type": "code",
   "execution_count": 13,
   "metadata": {},
   "outputs": [
    {
     "name": "stdout",
     "output_type": "stream",
     "text": [
      "{'Feb': 28, 'Mar': 31}\n",
      "{'Feb': 28}\n"
     ]
    }
   ],
   "source": [
    "# Method - 2\n",
    "print(dict_n)\n",
    "del dict_n['Mar']\n",
    "print(dict_n)"
   ]
  },
  {
   "cell_type": "markdown",
   "metadata": {},
   "source": [
    "#### Updating Dictionary using another Dictionary"
   ]
  },
  {
   "cell_type": "code",
   "execution_count": 14,
   "metadata": {},
   "outputs": [
    {
     "name": "stdout",
     "output_type": "stream",
     "text": [
      "{'Feb': 28}\n",
      "{'Jan': 31, 'Mar': 31}\n",
      "{'Feb': 28, 'Jan': 31, 'Mar': 31}\n"
     ]
    }
   ],
   "source": [
    "print(dict_n)\n",
    "dict_n2 = {'Jan':31,'Mar':31}\n",
    "print(dict_n2)\n",
    "dict_n.update(dict_n2)\n",
    "print(dict_n)"
   ]
  },
  {
   "cell_type": "markdown",
   "metadata": {},
   "source": [
    "#### Clearing Ditionary"
   ]
  },
  {
   "cell_type": "code",
   "execution_count": 15,
   "metadata": {},
   "outputs": [
    {
     "name": "stdout",
     "output_type": "stream",
     "text": [
      "{'Feb': 28, 'Jan': 31, 'Mar': 31}\n",
      "{}\n"
     ]
    }
   ],
   "source": [
    "print(dict_n)\n",
    "dict_n.clear()\n",
    "print(dict_n)"
   ]
  },
  {
   "cell_type": "markdown",
   "metadata": {},
   "source": [
    "# Tuple"
   ]
  },
  {
   "cell_type": "markdown",
   "metadata": {},
   "source": [
    "- Ordered \n",
    "- Immutable (Non- Changable)\n",
    "- Mixed Datatypes\n",
    "- Written as (, , ,)"
   ]
  },
  {
   "cell_type": "code",
   "execution_count": 16,
   "metadata": {},
   "outputs": [
    {
     "name": "stdout",
     "output_type": "stream",
     "text": [
      "(5, 2.0, 'Sagar', 'A')\n"
     ]
    }
   ],
   "source": [
    "t1 = (5,2.0,'Sagar','A')\n",
    "print(t1)"
   ]
  },
  {
   "cell_type": "code",
   "execution_count": 17,
   "metadata": {},
   "outputs": [
    {
     "name": "stdout",
     "output_type": "stream",
     "text": [
      "<class 'tuple'>\n"
     ]
    }
   ],
   "source": [
    "print(type(t1))"
   ]
  },
  {
   "cell_type": "markdown",
   "metadata": {},
   "source": [
    "#### Accessing and Slicing Tuple"
   ]
  },
  {
   "cell_type": "code",
   "execution_count": 18,
   "metadata": {},
   "outputs": [
    {
     "name": "stdout",
     "output_type": "stream",
     "text": [
      "(5, 2.0, 'Sagar', 'A')\n",
      "5\n",
      "2.0\n",
      "Sagar\n",
      "(5, 2.0, 'Sagar')\n",
      "(2.0, 'A')\n"
     ]
    }
   ],
   "source": [
    "print(t1)\n",
    "print(t1[0])\n",
    "print(t1[1])\n",
    "print(t1[2])\n",
    "print(t1[0:3])\n",
    "print(t1[1:4:2])"
   ]
  },
  {
   "cell_type": "markdown",
   "metadata": {},
   "source": [
    "- We cannot change values in tuple because it is immutable that Non Changable."
   ]
  },
  {
   "cell_type": "code",
   "execution_count": 19,
   "metadata": {},
   "outputs": [],
   "source": [
    "# t1.append(6)    # Can't Work here\n",
    "# t1[0] = 10"
   ]
  },
  {
   "cell_type": "markdown",
   "metadata": {},
   "source": [
    "- Hence above functions and insert,update,remove doesn't work here"
   ]
  },
  {
   "cell_type": "code",
   "execution_count": null,
   "metadata": {},
   "outputs": [],
   "source": []
  }
 ],
 "metadata": {
  "kernelspec": {
   "display_name": "Python 3",
   "language": "python",
   "name": "python3"
  },
  "language_info": {
   "codemirror_mode": {
    "name": "ipython",
    "version": 3
   },
   "file_extension": ".py",
   "mimetype": "text/x-python",
   "name": "python",
   "nbconvert_exporter": "python",
   "pygments_lexer": "ipython3",
   "version": "3.8.3"
  }
 },
 "nbformat": 4,
 "nbformat_minor": 4
}
