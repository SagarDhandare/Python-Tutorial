{
 "cells": [
  {
   "cell_type": "markdown",
   "metadata": {},
   "source": [
    "# Lists\n",
    "\n",
    "- Ordered\n",
    "- Mutable (Changeable)\n",
    "- Can contain mixed types\n",
    "- written as a list of comma-separated values (items) between square brackets."
   ]
  },
  {
   "cell_type": "code",
   "execution_count": 1,
   "metadata": {},
   "outputs": [],
   "source": [
    "list1 = [1, 2, 3, 4, 5 ]\n",
    "list2 = [\"a\", \"b\", \"c\", \"d\"]\n",
    "list3 = ['physics', 'chemistry', 1997, 2000]"
   ]
  },
  {
   "cell_type": "code",
   "execution_count": 2,
   "metadata": {},
   "outputs": [
    {
     "name": "stdout",
     "output_type": "stream",
     "text": [
      "[1, 2, 3, 4, 5]\n",
      "['a', 'b', 'c', 'd']\n",
      "['physics', 'chemistry', 1997, 2000]\n"
     ]
    }
   ],
   "source": [
    "print(list1)\n",
    "print(list2)\n",
    "print(list3)"
   ]
  },
  {
   "cell_type": "markdown",
   "metadata": {},
   "source": [
    "#### Indexing of lists"
   ]
  },
  {
   "cell_type": "code",
   "execution_count": 3,
   "metadata": {},
   "outputs": [
    {
     "name": "stdout",
     "output_type": "stream",
     "text": [
      "3\n",
      "c\n",
      "1997\n"
     ]
    }
   ],
   "source": [
    "print(list1[2])\n",
    "print(list2[2])\n",
    "print(list3[2])"
   ]
  },
  {
   "cell_type": "markdown",
   "metadata": {},
   "source": [
    "#### Updating of lists"
   ]
  },
  {
   "cell_type": "code",
   "execution_count": 4,
   "metadata": {},
   "outputs": [],
   "source": [
    "list1[2] = 8\n",
    "list2[2] = \"e\"\n",
    "list3[2] = \"Mathematics\""
   ]
  },
  {
   "cell_type": "code",
   "execution_count": 5,
   "metadata": {},
   "outputs": [
    {
     "name": "stdout",
     "output_type": "stream",
     "text": [
      "[1, 2, 8, 4, 5]\n",
      "['a', 'b', 'e', 'd']\n",
      "['physics', 'chemistry', 'Mathematics', 2000]\n"
     ]
    }
   ],
   "source": [
    "print(list1)\n",
    "print(list2)\n",
    "print(list3)"
   ]
  },
  {
   "cell_type": "markdown",
   "metadata": {},
   "source": [
    "#### Delete List Elements"
   ]
  },
  {
   "cell_type": "code",
   "execution_count": 6,
   "metadata": {},
   "outputs": [],
   "source": [
    "del list3[3]"
   ]
  },
  {
   "cell_type": "code",
   "execution_count": 7,
   "metadata": {},
   "outputs": [
    {
     "name": "stdout",
     "output_type": "stream",
     "text": [
      "['physics', 'chemistry', 'Mathematics']\n"
     ]
    }
   ],
   "source": [
    "print(list3)"
   ]
  },
  {
   "cell_type": "markdown",
   "metadata": {},
   "source": [
    "####  List Operations"
   ]
  },
  {
   "cell_type": "code",
   "execution_count": 8,
   "metadata": {},
   "outputs": [
    {
     "name": "stdout",
     "output_type": "stream",
     "text": [
      "[1, 2, 8, 4, 5, 'a', 'b', 'e', 'd']\n",
      "[1, 2, 8, 4, 5, 1, 2, 8, 4, 5]\n",
      "['a', 'b', 'e', 'd', 'a', 'b', 'e', 'd']\n"
     ]
    }
   ],
   "source": [
    "print(list1 + list2)    # \"+\" operator concatenates lists and not add list elements as the list can contain any datatypes\n",
    "print(list1 * 2)\n",
    "print(list2 * 2)"
   ]
  },
  {
   "cell_type": "code",
   "execution_count": 9,
   "metadata": {},
   "outputs": [],
   "source": [
    "# Following operations cannot be done on lists\n",
    "\n",
    "# print(list1-list2)\n",
    "# print(list1*list2)\n",
    "# print(list1/list2)"
   ]
  },
  {
   "cell_type": "markdown",
   "metadata": {},
   "source": [
    "#### Lists Function"
   ]
  },
  {
   "cell_type": "code",
   "execution_count": 10,
   "metadata": {},
   "outputs": [
    {
     "name": "stdout",
     "output_type": "stream",
     "text": [
      "[1, 2, 3, 4, 5, 6, 7, 8, 9, 10]\n",
      "10\n"
     ]
    }
   ],
   "source": [
    "list5 = [1,2,3,4,5,6,7,8,9,10]\n",
    "print(list5)\n",
    "print(len(list5))"
   ]
  },
  {
   "cell_type": "markdown",
   "metadata": {},
   "source": [
    "- append"
   ]
  },
  {
   "cell_type": "code",
   "execution_count": 11,
   "metadata": {},
   "outputs": [
    {
     "name": "stdout",
     "output_type": "stream",
     "text": [
      "[1, 2, 3, 4, 5, 6, 7, 8, 9, 10, 'Ashu', 8, 'sagar']\n"
     ]
    }
   ],
   "source": [
    "list5.append('Ashu')\n",
    "list5.append(8)\n",
    "list5.append(\"sagar\")\n",
    "print(list5)"
   ]
  },
  {
   "cell_type": "markdown",
   "metadata": {},
   "source": [
    "- insert"
   ]
  },
  {
   "cell_type": "code",
   "execution_count": 12,
   "metadata": {},
   "outputs": [
    {
     "name": "stdout",
     "output_type": "stream",
     "text": [
      "[1, 2, 3, 4, 5, 'A', 6, 7, 8, 9, 10, 'Ashu', 8, 'sagar']\n"
     ]
    }
   ],
   "source": [
    "list5.insert(5,\"A\")\n",
    "print(list5)"
   ]
  },
  {
   "cell_type": "markdown",
   "metadata": {},
   "source": [
    "- remove"
   ]
  },
  {
   "cell_type": "code",
   "execution_count": 13,
   "metadata": {},
   "outputs": [
    {
     "name": "stdout",
     "output_type": "stream",
     "text": [
      "[1, 2, 3, 4, 'A', 6, 7, 8, 9, 10, 'Ashu', 8, 'sagar']\n"
     ]
    }
   ],
   "source": [
    "list5.remove(5)\n",
    "print(list5)"
   ]
  },
  {
   "cell_type": "code",
   "execution_count": 14,
   "metadata": {},
   "outputs": [
    {
     "name": "stdout",
     "output_type": "stream",
     "text": [
      "[1, 2, 3, 4, 'A', 6, 7, 8, 9, 10, 8, 'sagar']\n"
     ]
    }
   ],
   "source": [
    "list5.remove(\"Ashu\")\n",
    "print(list5)"
   ]
  },
  {
   "cell_type": "markdown",
   "metadata": {},
   "source": [
    "- sort"
   ]
  },
  {
   "cell_type": "code",
   "execution_count": 15,
   "metadata": {},
   "outputs": [
    {
     "name": "stdout",
     "output_type": "stream",
     "text": [
      "[1, 2, 3, 4, 5, 6, 7, 8, 9]\n",
      "[9, 8, 7, 6, 5, 4, 3, 2, 1]\n"
     ]
    }
   ],
   "source": [
    "list6 = [9,8,7,6,5,4,3,2,1]\n",
    "\n",
    "list6.sort()     # Ascending order\n",
    "print(list6)\n",
    "\n",
    "list6.sort(reverse=True)  # Descending order\n",
    "print(list6)"
   ]
  },
  {
   "cell_type": "markdown",
   "metadata": {},
   "source": [
    "- extend"
   ]
  },
  {
   "cell_type": "code",
   "execution_count": 16,
   "metadata": {},
   "outputs": [
    {
     "name": "stdout",
     "output_type": "stream",
     "text": [
      "[9, 8, 7, 6, 5, 4, 3, 2, 1, 'Hello', 'Programmer']\n"
     ]
    }
   ],
   "source": [
    "list7 = [\"Hello\",\"Programmer\"]\n",
    "list6.extend(list7)\n",
    "print(list6)"
   ]
  },
  {
   "cell_type": "markdown",
   "metadata": {},
   "source": [
    "- clear"
   ]
  },
  {
   "cell_type": "code",
   "execution_count": 17,
   "metadata": {},
   "outputs": [
    {
     "name": "stdout",
     "output_type": "stream",
     "text": [
      "[9, 8, 7, 6, 5, 4, 3, 2, 1, 'Hello', 'Programmer']\n",
      "[]\n"
     ]
    }
   ],
   "source": [
    "print(list6)\n",
    "list6.clear()\n",
    "print(list6)"
   ]
  },
  {
   "cell_type": "markdown",
   "metadata": {},
   "source": [
    "# String"
   ]
  },
  {
   "cell_type": "code",
   "execution_count": 18,
   "metadata": {},
   "outputs": [
    {
     "name": "stdout",
     "output_type": "stream",
     "text": [
      "Sagar Dhandare\n"
     ]
    }
   ],
   "source": [
    "str1 = \"Sagar Dhandare\"\n",
    "print(str1)"
   ]
  },
  {
   "cell_type": "markdown",
   "metadata": {},
   "source": [
    "#### Indexing in String"
   ]
  },
  {
   "cell_type": "code",
   "execution_count": 19,
   "metadata": {},
   "outputs": [
    {
     "name": "stdout",
     "output_type": "stream",
     "text": [
      "S\n",
      "D\n",
      "e\n",
      "r\n"
     ]
    }
   ],
   "source": [
    "print(str1[0])\n",
    "print(str1[6])\n",
    "print(str1[-1])\n",
    "print(str1[-2])"
   ]
  },
  {
   "cell_type": "markdown",
   "metadata": {},
   "source": [
    "#### String Slicing"
   ]
  },
  {
   "cell_type": "code",
   "execution_count": 20,
   "metadata": {},
   "outputs": [
    {
     "name": "stdout",
     "output_type": "stream",
     "text": [
      "Sagar Dhandare\n",
      "Sagar Dh\n",
      "Dhandare\n"
     ]
    }
   ],
   "source": [
    "print(str1)\n",
    "print(str1[:8])\n",
    "print(str1[6:])"
   ]
  },
  {
   "cell_type": "markdown",
   "metadata": {},
   "source": [
    "#### String Operations"
   ]
  },
  {
   "cell_type": "code",
   "execution_count": 21,
   "metadata": {},
   "outputs": [
    {
     "name": "stdout",
     "output_type": "stream",
     "text": [
      "First StringSecond String\n"
     ]
    }
   ],
   "source": [
    "str1 = \"First String\"\n",
    "str2 = \"Second String\"\n",
    "print(str1+str2)"
   ]
  },
  {
   "cell_type": "code",
   "execution_count": 22,
   "metadata": {},
   "outputs": [
    {
     "name": "stdout",
     "output_type": "stream",
     "text": [
      "First String Second String\n"
     ]
    }
   ],
   "source": [
    "str1 = \"First String\"\n",
    "str2 = \"Second String\"\n",
    "print(str1 + \" \" + str2)"
   ]
  },
  {
   "cell_type": "code",
   "execution_count": 23,
   "metadata": {},
   "outputs": [
    {
     "name": "stdout",
     "output_type": "stream",
     "text": [
      "First StringFirst StringFirst String\n"
     ]
    }
   ],
   "source": [
    "print(str1*3)"
   ]
  },
  {
   "cell_type": "code",
   "execution_count": 24,
   "metadata": {},
   "outputs": [],
   "source": [
    "# Following operations cannot be done on Strings\n",
    "\n",
    "\n",
    "# print(str1-str2) \n",
    "# print(str1*str2) \n",
    "# print(str1/str2)"
   ]
  },
  {
   "cell_type": "markdown",
   "metadata": {},
   "source": [
    "#### String Formatting"
   ]
  },
  {
   "cell_type": "code",
   "execution_count": 25,
   "metadata": {},
   "outputs": [],
   "source": [
    "num1 = 14\n",
    "num2 = 8"
   ]
  },
  {
   "cell_type": "code",
   "execution_count": 26,
   "metadata": {},
   "outputs": [
    {
     "name": "stdout",
     "output_type": "stream",
     "text": [
      "Value of Num1: 14\n"
     ]
    }
   ],
   "source": [
    "print(\"Value of Num1: {0}\".format(num1))"
   ]
  },
  {
   "cell_type": "code",
   "execution_count": 27,
   "metadata": {},
   "outputs": [
    {
     "name": "stdout",
     "output_type": "stream",
     "text": [
      "Value of Num2: 8\n"
     ]
    }
   ],
   "source": [
    "print(\"Value of Num2: {0}\".format(num2))"
   ]
  },
  {
   "cell_type": "code",
   "execution_count": 28,
   "metadata": {},
   "outputs": [
    {
     "name": "stdout",
     "output_type": "stream",
     "text": [
      "Value of Num1: 14 and Num2: 8\n"
     ]
    }
   ],
   "source": [
    "print(\"Value of Num1: {0} and Num2: {1}\".format(num1,num2))"
   ]
  },
  {
   "cell_type": "code",
   "execution_count": 29,
   "metadata": {},
   "outputs": [
    {
     "name": "stdout",
     "output_type": "stream",
     "text": [
      "Value of Num1: 8 and Num2: 14\n"
     ]
    }
   ],
   "source": [
    "print(\"Value of Num1: {1} and Num2: {0}\".format(num1,num2))"
   ]
  },
  {
   "cell_type": "code",
   "execution_count": 30,
   "metadata": {},
   "outputs": [
    {
     "name": "stdout",
     "output_type": "stream",
     "text": [
      "Value of Num1: 14 and Num2: 8\n"
     ]
    }
   ],
   "source": [
    "print(\"Value of Num1: {n1} and Num2: {n2}\".format(n1 = num1,n2 = num2))"
   ]
  },
  {
   "cell_type": "markdown",
   "metadata": {},
   "source": [
    "#### String Functions"
   ]
  },
  {
   "cell_type": "markdown",
   "metadata": {},
   "source": [
    "- startswith , endswith"
   ]
  },
  {
   "cell_type": "code",
   "execution_count": 31,
   "metadata": {},
   "outputs": [
    {
     "name": "stdout",
     "output_type": "stream",
     "text": [
      "Cat Mango Dog Apple\n"
     ]
    }
   ],
   "source": [
    "str1 = \"Cat Mango Dog Apple\"\n",
    "print(str1)"
   ]
  },
  {
   "cell_type": "code",
   "execution_count": 32,
   "metadata": {},
   "outputs": [
    {
     "name": "stdout",
     "output_type": "stream",
     "text": [
      "True\n",
      "True\n",
      "False\n"
     ]
    }
   ],
   "source": [
    "print(str1.startswith(\"Cat\"))\n",
    "print(str1.startswith(\"Cat \"))\n",
    "print(str1.startswith(\"Cat a\"))"
   ]
  },
  {
   "cell_type": "code",
   "execution_count": 33,
   "metadata": {},
   "outputs": [
    {
     "name": "stdout",
     "output_type": "stream",
     "text": [
      "True\n",
      "False\n"
     ]
    }
   ],
   "source": [
    "print(str1.endswith(\"Apple\"))\n",
    "print(str1.endswith(\"Apple \"))"
   ]
  },
  {
   "cell_type": "code",
   "execution_count": 34,
   "metadata": {},
   "outputs": [
    {
     "name": "stdout",
     "output_type": "stream",
     "text": [
      "False\n"
     ]
    }
   ],
   "source": [
    "print(str1.startswith(\"d Apple\"))"
   ]
  },
  {
   "cell_type": "code",
   "execution_count": 35,
   "metadata": {},
   "outputs": [
    {
     "name": "stdout",
     "output_type": "stream",
     "text": [
      "Starts\n"
     ]
    }
   ],
   "source": [
    "if str1.startswith(\"Cat\"):\n",
    "    print(\"Starts\")\n",
    "else:\n",
    "    print(\"Don't Starts\")"
   ]
  },
  {
   "cell_type": "code",
   "execution_count": 36,
   "metadata": {},
   "outputs": [
    {
     "name": "stdout",
     "output_type": "stream",
     "text": [
      "Don't Starts\n"
     ]
    }
   ],
   "source": [
    "if str1.startswith(\"cat\"):\n",
    "    print(\"Starts\")\n",
    "else:\n",
    "    print(\"Don't Starts\")"
   ]
  },
  {
   "cell_type": "code",
   "execution_count": 37,
   "metadata": {},
   "outputs": [
    {
     "name": "stdout",
     "output_type": "stream",
     "text": [
      "False\n",
      "True\n"
     ]
    }
   ],
   "source": [
    "print(str1.startswith(\"Cat\",4))     # If we want to check if Cat is at index 4 or not:\n",
    "print(str1.startswith(\"Mang\",4))"
   ]
  },
  {
   "cell_type": "code",
   "execution_count": 38,
   "metadata": {},
   "outputs": [
    {
     "data": {
      "text/plain": [
       "'Mango Dog Apple'"
      ]
     },
     "execution_count": 38,
     "metadata": {},
     "output_type": "execute_result"
    }
   ],
   "source": [
    "str1[4:]"
   ]
  },
  {
   "cell_type": "code",
   "execution_count": 39,
   "metadata": {},
   "outputs": [
    {
     "data": {
      "text/plain": [
       "'Mango'"
      ]
     },
     "execution_count": 39,
     "metadata": {},
     "output_type": "execute_result"
    }
   ],
   "source": [
    "str1[4:9]"
   ]
  },
  {
   "cell_type": "code",
   "execution_count": 40,
   "metadata": {},
   "outputs": [
    {
     "name": "stdout",
     "output_type": "stream",
     "text": [
      "True\n",
      "False\n"
     ]
    }
   ],
   "source": [
    "print(str1.startswith(\"Mango\",4,9))\n",
    "print(str1.startswith(\"Cat\",4))"
   ]
  },
  {
   "cell_type": "code",
   "execution_count": 41,
   "metadata": {},
   "outputs": [
    {
     "data": {
      "text/plain": [
       "'Dog A'"
      ]
     },
     "execution_count": 41,
     "metadata": {},
     "output_type": "execute_result"
    }
   ],
   "source": [
    "str1[-9:-4]"
   ]
  },
  {
   "cell_type": "code",
   "execution_count": 42,
   "metadata": {},
   "outputs": [
    {
     "name": "stdout",
     "output_type": "stream",
     "text": [
      "True\n"
     ]
    }
   ],
   "source": [
    "print(str1.endswith('Dog A',-9,-4))"
   ]
  },
  {
   "cell_type": "code",
   "execution_count": 43,
   "metadata": {},
   "outputs": [
    {
     "name": "stdout",
     "output_type": "stream",
     "text": [
      "False\n"
     ]
    }
   ],
   "source": [
    "print(str1.endswith('Dog ',-9,-4))"
   ]
  },
  {
   "cell_type": "markdown",
   "metadata": {},
   "source": [
    "- strip ,lstrip, rstrip"
   ]
  },
  {
   "cell_type": "code",
   "execution_count": 44,
   "metadata": {},
   "outputs": [
    {
     "name": "stdout",
     "output_type": "stream",
     "text": [
      "0000000000000Cat Mango Dog Apple111111111111111111111\n"
     ]
    }
   ],
   "source": [
    "str2 = \"0000000000000Cat Mango Dog Apple111111111111111111111\"\n",
    "print(str2)"
   ]
  },
  {
   "cell_type": "code",
   "execution_count": 45,
   "metadata": {},
   "outputs": [
    {
     "name": "stdout",
     "output_type": "stream",
     "text": [
      "Cat Mango Dog Apple111111111111111111111\n",
      "Cat Mango Dog Apple111111111111111111111\n",
      "0000000000000Cat Mango Dog Apple\n",
      "Cat Mango Dog Apple\n"
     ]
    }
   ],
   "source": [
    "print(str2.strip('0'))\n",
    "print(str2.lstrip('0'))\n",
    "print(str2.rstrip('1'))\n",
    "print(str2.strip('0').rstrip('1'))"
   ]
  },
  {
   "cell_type": "code",
   "execution_count": 46,
   "metadata": {},
   "outputs": [
    {
     "name": "stdout",
     "output_type": "stream",
     "text": [
      "                       Cat Mango Dog Apple             \n",
      "Cat Mango Dog Apple\n"
     ]
    }
   ],
   "source": [
    "str2 = \"                       Cat Mango Dog Apple             \"\n",
    "print(str2)\n",
    "print(str2.strip())    # By Default, strip() removes spaces "
   ]
  },
  {
   "cell_type": "code",
   "execution_count": 47,
   "metadata": {},
   "outputs": [
    {
     "name": "stdout",
     "output_type": "stream",
     "text": [
      "0000000000000Cat Mango Dog Apple00000000000000000\n",
      "0000000000000Cat Mango Dog Apple00000000000000000\n"
     ]
    }
   ],
   "source": [
    "str2 = \"0000000000000Cat Mango Dog Apple00000000000000000\"\n",
    "print(str2)\n",
    "print(str2.strip('k'))      # If we input any other character, it doesn't work"
   ]
  },
  {
   "cell_type": "markdown",
   "metadata": {},
   "source": [
    "- isupper(), islower(), upper(), lower() , swapcase()"
   ]
  },
  {
   "cell_type": "code",
   "execution_count": 48,
   "metadata": {},
   "outputs": [
    {
     "name": "stdout",
     "output_type": "stream",
     "text": [
      "True\n",
      "False\n",
      "False\n",
      "False\n",
      "True\n",
      "False\n"
     ]
    }
   ],
   "source": [
    "str1 = \"HELLO\"\n",
    "str2 = \"hello\"\n",
    "str3 = \"HellO\"\n",
    "print(str1.isupper())\n",
    "print(str2.isupper())\n",
    "print(str3.isupper())\n",
    "\n",
    "print(str1.islower())\n",
    "print(str2.islower())\n",
    "print(str3.islower())"
   ]
  },
  {
   "cell_type": "code",
   "execution_count": 49,
   "metadata": {},
   "outputs": [
    {
     "name": "stdout",
     "output_type": "stream",
     "text": [
      "In Upper Case\n"
     ]
    }
   ],
   "source": [
    "if str1.isupper():\n",
    "    print('In Upper Case')\n",
    "else:\n",
    "    print('In Lower Case')"
   ]
  },
  {
   "cell_type": "code",
   "execution_count": 50,
   "metadata": {},
   "outputs": [
    {
     "name": "stdout",
     "output_type": "stream",
     "text": [
      "In Lower Case\n"
     ]
    }
   ],
   "source": [
    "if str2.isupper():\n",
    "    print('In Upper Case')\n",
    "else:\n",
    "    print('In Lower Case')"
   ]
  },
  {
   "cell_type": "code",
   "execution_count": 51,
   "metadata": {},
   "outputs": [
    {
     "name": "stdout",
     "output_type": "stream",
     "text": [
      "In Lower Case\n"
     ]
    }
   ],
   "source": [
    "if str3.isupper():\n",
    "    print('In Upper Case')\n",
    "else:\n",
    "    print('In Lower Case')"
   ]
  },
  {
   "cell_type": "code",
   "execution_count": 52,
   "metadata": {},
   "outputs": [
    {
     "name": "stdout",
     "output_type": "stream",
     "text": [
      "In Upper Case\n"
     ]
    }
   ],
   "source": [
    "if str1.islower():\n",
    "    print('In Lower Case')\n",
    "else:\n",
    "    print('In Upper Case')"
   ]
  },
  {
   "cell_type": "code",
   "execution_count": 53,
   "metadata": {},
   "outputs": [
    {
     "name": "stdout",
     "output_type": "stream",
     "text": [
      "In Lower Case\n"
     ]
    }
   ],
   "source": [
    "if str2.islower():\n",
    "    print('In Lower Case')\n",
    "else:\n",
    "    print('In Upper Case')"
   ]
  },
  {
   "cell_type": "code",
   "execution_count": 54,
   "metadata": {},
   "outputs": [
    {
     "name": "stdout",
     "output_type": "stream",
     "text": [
      "In Upper Case\n"
     ]
    }
   ],
   "source": [
    "if str3.islower():\n",
    "    print('In Lower Case')\n",
    "else:\n",
    "    print('In Upper Case')"
   ]
  },
  {
   "cell_type": "code",
   "execution_count": 55,
   "metadata": {},
   "outputs": [
    {
     "name": "stdout",
     "output_type": "stream",
     "text": [
      "HELLO\n",
      "hello\n"
     ]
    }
   ],
   "source": [
    "print(str1)\n",
    "print(str1.lower())"
   ]
  },
  {
   "cell_type": "code",
   "execution_count": 56,
   "metadata": {},
   "outputs": [
    {
     "name": "stdout",
     "output_type": "stream",
     "text": [
      "hello\n",
      "HELLO\n"
     ]
    }
   ],
   "source": [
    "print(str2)\n",
    "print(str2.upper())"
   ]
  },
  {
   "cell_type": "code",
   "execution_count": 57,
   "metadata": {},
   "outputs": [
    {
     "name": "stdout",
     "output_type": "stream",
     "text": [
      "HellO\n",
      "HELLO\n",
      "hello\n"
     ]
    }
   ],
   "source": [
    "print(str3)\n",
    "print(str3.upper())\n",
    "print(str3.lower())"
   ]
  },
  {
   "cell_type": "code",
   "execution_count": 58,
   "metadata": {},
   "outputs": [
    {
     "name": "stdout",
     "output_type": "stream",
     "text": [
      "HELLO\n",
      "hello\n",
      "hello\n",
      "HELLO\n",
      "HellO\n",
      "hELLo\n"
     ]
    }
   ],
   "source": [
    "print(str1)\n",
    "print(str1.swapcase())\n",
    "print(str2)\n",
    "print(str2.swapcase())\n",
    "print(str3)\n",
    "print(str3.swapcase())"
   ]
  },
  {
   "cell_type": "markdown",
   "metadata": {},
   "source": [
    "- replace(), join(), split()"
   ]
  },
  {
   "cell_type": "code",
   "execution_count": 59,
   "metadata": {},
   "outputs": [
    {
     "name": "stdout",
     "output_type": "stream",
     "text": [
      "I like Python Programming\n",
      "I love Python Programming\n"
     ]
    }
   ],
   "source": [
    "str1 = 'I like Python Programming'\n",
    "print(str1)\n",
    "str1 = str1.replace('like','love')\n",
    "print(str1)"
   ]
  },
  {
   "cell_type": "code",
   "execution_count": 60,
   "metadata": {},
   "outputs": [
    {
     "name": "stdout",
     "output_type": "stream",
     "text": [
      "I Love Programming. I Love Coding. I like Sleeping\n"
     ]
    }
   ],
   "source": [
    "str2 = 'I like Programming. I like Coding. I like Sleeping'\n",
    "str3 = str2.replace('I like','I Love',2)\n",
    "print(str3)"
   ]
  },
  {
   "cell_type": "code",
   "execution_count": 61,
   "metadata": {},
   "outputs": [
    {
     "name": "stdout",
     "output_type": "stream",
     "text": [
      "08-11-1997\n",
      "14/02/1998\n"
     ]
    }
   ],
   "source": [
    "sep = '-'\n",
    "date = sep.join(('08','11','1997'))\n",
    "print(date)\n",
    "\n",
    "sep = '/'\n",
    "date = sep.join(('14','02','1998'))\n",
    "print(date)\n"
   ]
  },
  {
   "cell_type": "code",
   "execution_count": 62,
   "metadata": {},
   "outputs": [
    {
     "name": "stdout",
     "output_type": "stream",
     "text": [
      "SagarandAshuandNam\n",
      "Sagar and Ashu and Nam\n"
     ]
    }
   ],
   "source": [
    "sep = 'and'\n",
    "people = sep.join(('Sagar','Ashu','Nam'))\n",
    "print(people)\n",
    "\n",
    "sep = ' and '\n",
    "people = sep.join(('Sagar','Ashu','Nam'))\n",
    "print(people)\n"
   ]
  },
  {
   "cell_type": "code",
   "execution_count": 63,
   "metadata": {},
   "outputs": [
    {
     "name": "stdout",
     "output_type": "stream",
     "text": [
      "['Cat', 'Dog', 'Giraffee', 'Rat', 'Bat']\n",
      "<class 'list'>\n",
      "Number of Elements: 5\n"
     ]
    }
   ],
   "source": [
    "animal_str = \"Cat,Dog,Giraffee,Rat,Bat\"\n",
    "animals = animal_str.split(',')       #split returns a List\n",
    "print(animals)\n",
    "print(type(animals))\n",
    "print(\"Number of Elements:\",end=\" \")\n",
    "print(len(animals))"
   ]
  },
  {
   "cell_type": "code",
   "execution_count": 64,
   "metadata": {},
   "outputs": [
    {
     "name": "stdout",
     "output_type": "stream",
     "text": [
      "['Cat', 'Dog', 'Giraffee,Rat,Bat']\n",
      "<class 'list'>\n",
      "Number of Elements: 3\n"
     ]
    }
   ],
   "source": [
    "animals = animal_str.split(',',2)\n",
    "print(animals)\n",
    "print(type(animals))\n",
    "print(\"Number of Elements:\",end=\" \")\n",
    "print(len(animals))"
   ]
  },
  {
   "cell_type": "code",
   "execution_count": null,
   "metadata": {},
   "outputs": [],
   "source": []
  }
 ],
 "metadata": {
  "kernelspec": {
   "display_name": "Python 3",
   "language": "python",
   "name": "python3"
  },
  "language_info": {
   "codemirror_mode": {
    "name": "ipython",
    "version": 3
   },
   "file_extension": ".py",
   "mimetype": "text/x-python",
   "name": "python",
   "nbconvert_exporter": "python",
   "pygments_lexer": "ipython3",
   "version": "3.8.3"
  }
 },
 "nbformat": 4,
 "nbformat_minor": 4
}
